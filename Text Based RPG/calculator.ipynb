{
 "cells": [
  {
   "cell_type": "code",
   "execution_count": 11,
   "metadata": {},
   "outputs": [
    {
     "name": "stdout",
     "output_type": "stream",
     "text": [
      "This is a calculator\n",
      "Please type 'quit' to exit\n",
      "\n"
     ]
    }
   ],
   "source": [
    "import re\n",
    "print (\"This is a calculator\")\n",
    "print (\"Please type 'quit' to exit\\n\")\n",
    "previous = 0\n",
    "run = True\n",
    "\n",
    "\n",
    "def performMath():\n",
    "    global run\n",
    "    global previous\n",
    "    equation = \"\"\n",
    "    if equation == 0:\n",
    "        equation = input(\"Enter equation\")\n",
    "    else:\n",
    "        equation = input(str(previous))\n",
    "\n",
    "    if equation == 'quit':\n",
    "        print (\"Goodbye\")\n",
    "        run = False\n",
    "    else:\n",
    "        equation = re.sub('[a-zA-Z,.()\" \"]', '', equation)\n",
    "        if previous == 0:\n",
    "            previous = eval(equation)\n",
    "        else:\n",
    "            previous = eval(str(previous) + equation) \n",
    "\n",
    "\n",
    "while run:\n",
    "    performMath()"
   ]
  }
 ],
 "metadata": {
  "kernelspec": {
   "display_name": "Python 3.9.1 64-bit",
   "language": "python",
   "name": "python3"
  },
  "language_info": {
   "codemirror_mode": {
    "name": "ipython",
    "version": 3
   },
   "file_extension": ".py",
   "mimetype": "text/x-python",
   "name": "python",
   "nbconvert_exporter": "python",
   "pygments_lexer": "ipython3",
   "version": "3.9.1"
  },
  "orig_nbformat": 4,
  "vscode": {
   "interpreter": {
    "hash": "2811c7424cef95054819e8d2cf3f95526156ff6679921f5bfc797b71155bd29f"
   }
  }
 },
 "nbformat": 4,
 "nbformat_minor": 2
}
